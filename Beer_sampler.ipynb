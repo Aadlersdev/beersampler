{
  "nbformat": 4,
  "nbformat_minor": 0,
  "metadata": {
    "colab": {
      "provenance": [],
      "authorship_tag": "ABX9TyOWUz7gMOzHTNPY0EfdG2g4",
      "include_colab_link": true
    },
    "kernelspec": {
      "name": "python3",
      "display_name": "Python 3"
    },
    "language_info": {
      "name": "python"
    }
  },
  "cells": [
    {
      "cell_type": "markdown",
      "metadata": {
        "id": "view-in-github",
        "colab_type": "text"
      },
      "source": [
        "<a href=\"https://colab.research.google.com/github/Aadlersdev/beersampler/blob/main/Beer_sampler.ipynb\" target=\"_parent\"><img src=\"https://colab.research.google.com/assets/colab-badge.svg\" alt=\"Open In Colab\"/></a>"
      ]
    },
    {
      "cell_type": "code",
      "execution_count": null,
      "metadata": {
        "colab": {
          "base_uri": "https://localhost:8080/"
        },
        "id": "gebaOvYXqRJb",
        "outputId": "421f64cb-981c-46ef-ac86-c2a3590eacdf"
      },
      "outputs": [
        {
          "output_type": "stream",
          "name": "stdout",
          "text": [
            "Collecting django\n",
            "  Downloading Django-5.0.7-py3-none-any.whl.metadata (4.1 kB)\n",
            "Collecting djangorestframework\n",
            "  Downloading djangorestframework-3.15.2-py3-none-any.whl.metadata (10 kB)\n",
            "Collecting asgiref<4,>=3.7.0 (from django)\n",
            "  Downloading asgiref-3.8.1-py3-none-any.whl.metadata (9.3 kB)\n",
            "Requirement already satisfied: sqlparse>=0.3.1 in /usr/local/lib/python3.10/dist-packages (from django) (0.5.1)\n",
            "Requirement already satisfied: typing-extensions>=4 in /usr/local/lib/python3.10/dist-packages (from asgiref<4,>=3.7.0->django) (4.12.2)\n",
            "Downloading Django-5.0.7-py3-none-any.whl (8.2 MB)\n",
            "\u001b[2K   \u001b[90m━━━━━━━━━━━━━━━━━━━━━━━━━━━━━━━━━━━━━━━━\u001b[0m \u001b[32m8.2/8.2 MB\u001b[0m \u001b[31m42.9 MB/s\u001b[0m eta \u001b[36m0:00:00\u001b[0m\n",
            "\u001b[?25hDownloading djangorestframework-3.15.2-py3-none-any.whl (1.1 MB)\n",
            "\u001b[2K   \u001b[90m━━━━━━━━━━━━━━━━━━━━━━━━━━━━━━━━━━━━━━━━\u001b[0m \u001b[32m1.1/1.1 MB\u001b[0m \u001b[31m41.1 MB/s\u001b[0m eta \u001b[36m0:00:00\u001b[0m\n",
            "\u001b[?25hDownloading asgiref-3.8.1-py3-none-any.whl (23 kB)\n",
            "Installing collected packages: asgiref, django, djangorestframework\n",
            "Successfully installed asgiref-3.8.1 django-5.0.7 djangorestframework-3.15.2\n"
          ]
        }
      ],
      "source": [
        "# Install Django and Django REST framework\n",
        "!pip install django djangorestframework\n",
        "\n"
      ]
    },
    {
      "cell_type": "code",
      "source": [
        "# Create a new Django project\n",
        "!django-admin startproject beersampler\n",
        "\n",
        "# Change directory to the project folder\n",
        "%cd beersampler\n",
        "\n",
        "# Create a new Django app\n",
        "!python manage.py startapp sessions\n"
      ],
      "metadata": {
        "colab": {
          "base_uri": "https://localhost:8080/"
        },
        "id": "nawhu0qZqY68",
        "outputId": "3184c3cc-0959-4f37-a464-fd59b5f391db"
      },
      "execution_count": null,
      "outputs": [
        {
          "output_type": "stream",
          "name": "stdout",
          "text": [
            "/content/beersampler/beersampler/beersampler\n"
          ]
        }
      ]
    },
    {
      "cell_type": "code",
      "source": [
        "# Run the migrations\n",
        "!python manage.py migrate\n"
      ],
      "metadata": {
        "colab": {
          "base_uri": "https://localhost:8080/"
        },
        "id": "5uQJbifxrG6s",
        "outputId": "3dd9bbc4-a0fd-488d-bf95-bc5332c62625"
      },
      "execution_count": null,
      "outputs": [
        {
          "output_type": "stream",
          "name": "stdout",
          "text": [
            "\u001b[36;1mOperations to perform:\u001b[0m\n",
            "\u001b[1m  Apply all migrations: \u001b[0madmin, auth, contenttypes, sessions\n",
            "\u001b[36;1mRunning migrations:\u001b[0m\n",
            "  No migrations to apply.\n"
          ]
        }
      ]
    },
    {
      "cell_type": "code",
      "source": [
        "!git remote rm origin\n"
      ],
      "metadata": {
        "id": "oGkZXBbeNSYR"
      },
      "execution_count": null,
      "outputs": []
    },
    {
      "cell_type": "code",
      "source": [
        "!git remote set-url origin git@github.com:Aadlersdev/beersampler.git"
      ],
      "metadata": {
        "colab": {
          "base_uri": "https://localhost:8080/"
        },
        "id": "cZ8wONf5OB3O",
        "outputId": "c3d4ef8a-5508-4496-8aa0-9d1a8451f5a3"
      },
      "execution_count": null,
      "outputs": [
        {
          "output_type": "stream",
          "name": "stdout",
          "text": [
            "error: No such remote 'origin'\n"
          ]
        }
      ]
    },
    {
      "cell_type": "code",
      "source": [
        "!git remote add origin git@github.com:Aadlersdev/beersampler.git\n",
        "!git branch -M main\n",
        "!git push -u origin main"
      ],
      "metadata": {
        "colab": {
          "base_uri": "https://localhost:8080/"
        },
        "id": "-JFMY2HKOHvl",
        "outputId": "869f1d28-cf20-411e-87c6-7483d02eb27c"
      },
      "execution_count": null,
      "outputs": [
        {
          "output_type": "stream",
          "name": "stdout",
          "text": [
            "Host key verification failed.\r\n",
            "fatal: Could not read from remote repository.\n",
            "\n",
            "Please make sure you have the correct access rights\n",
            "and the repository exists.\n"
          ]
        }
      ]
    },
    {
      "cell_type": "code",
      "source": [],
      "metadata": {
        "id": "B9k58rWrOXj_"
      },
      "execution_count": null,
      "outputs": []
    }
  ]
}